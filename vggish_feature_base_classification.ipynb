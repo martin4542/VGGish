{
 "cells": [
  {
   "cell_type": "code",
   "execution_count": 1,
   "metadata": {},
   "outputs": [],
   "source": [
    "import tensorflow.compat.v1 as tf\n",
    "import vggish_input\n",
    "import vggish_params\n",
    "import vggish_postprocess\n",
    "import vggish_slim\n",
    "\n",
    "import os\n",
    "import librosa\n",
    "import numpy as np"
   ]
  },
  {
   "cell_type": "markdown",
   "metadata": {},
   "source": [
    "# Extract Feature"
   ]
  },
  {
   "cell_type": "code",
   "execution_count": 2,
   "metadata": {},
   "outputs": [],
   "source": [
    "checkpoint_path = 'check_points/vggish_model.ckpt'\n",
    "pca_params_path = 'check_points/vggish_pca_params.npz'\n",
    "audio_path = 'C:/Users/jae/Music/hearing_loss_split_epp'"
   ]
  },
  {
   "cell_type": "code",
   "execution_count": 11,
   "metadata": {},
   "outputs": [],
   "source": [
    "def vggish_feat_extract(x, sr):\n",
    "    input_batch = vggish_input.waveform_to_examples(x, sr)\n",
    "        \n",
    "    with tf.Graph().as_default(), tf.Session() as sess:\n",
    "        vggish_slim.define_vggish_slim()\n",
    "        vggish_slim.load_vggish_slim_checkpoint(sess, checkpoint_path)\n",
    "        \n",
    "        features_tensor = sess.graph.get_tensor_by_name(\n",
    "            vggish_params.INPUT_TENSOR_NAME\n",
    "        )\n",
    "        embedding_tensor = sess.graph.get_tensor_by_name(\n",
    "            vggish_params.OUTPUT_TENSOR_NAME\n",
    "        )\n",
    "        [embedding_batch] = sess.run([embedding_tensor], feed_dict={features_tensor: input_batch})\n",
    "        \n",
    "        return embedding_batch\n",
    "    \n",
    "def extract_feature_from_files(category='normal'):\n",
    "    min_len = 100\n",
    "    max_len = 0\n",
    "    vggish_feature = np.empty((0, 128))\n",
    "    for folder in os.listdir(os.path.join(audio_path, category)):\n",
    "        for audio_file in os.listdir(os.path.join(audio_path, category, folder)):\n",
    "            #if audio_file.endswith('.wav') and (audio_file.lower() == 'chapter1.wav' or audio_file.lower() == 'chapter2.wav'):\n",
    "            if audio_file.endswith('.wav') and audio_file.lower() == 'chapter3.wav':\n",
    "                x, sr = librosa.load(os.path.join(audio_path, category, folder, audio_file), sr=44100, mono=True)\n",
    "                temp = np.array(vggish_feat_extract(x, sr))\n",
    "                if audio_file.lower() == 'chapter1.wav':\n",
    "                    if min_len > temp.shape[0]: min_len = temp.shape[0]\n",
    "                    if max_len < temp.shape[0]: max_len = temp.shape[0]\n",
    "                vggish_feature = np.append(vggish_feature, temp, axis=0)\n",
    "    print(min_len, max_len)\n",
    "    return vggish_feature"
   ]
  },
  {
   "cell_type": "code",
   "execution_count": 12,
   "metadata": {},
   "outputs": [
    {
     "name": "stdout",
     "output_type": "stream",
     "text": [
      "INFO:tensorflow:Restoring parameters from check_points/vggish_model.ckpt\n",
      "INFO:tensorflow:Restoring parameters from check_points/vggish_model.ckpt\n",
      "INFO:tensorflow:Restoring parameters from check_points/vggish_model.ckpt\n",
      "INFO:tensorflow:Restoring parameters from check_points/vggish_model.ckpt\n",
      "INFO:tensorflow:Restoring parameters from check_points/vggish_model.ckpt\n",
      "INFO:tensorflow:Restoring parameters from check_points/vggish_model.ckpt\n",
      "INFO:tensorflow:Restoring parameters from check_points/vggish_model.ckpt\n",
      "INFO:tensorflow:Restoring parameters from check_points/vggish_model.ckpt\n",
      "INFO:tensorflow:Restoring parameters from check_points/vggish_model.ckpt\n",
      "INFO:tensorflow:Restoring parameters from check_points/vggish_model.ckpt\n",
      "INFO:tensorflow:Restoring parameters from check_points/vggish_model.ckpt\n",
      "INFO:tensorflow:Restoring parameters from check_points/vggish_model.ckpt\n",
      "INFO:tensorflow:Restoring parameters from check_points/vggish_model.ckpt\n",
      "INFO:tensorflow:Restoring parameters from check_points/vggish_model.ckpt\n",
      "INFO:tensorflow:Restoring parameters from check_points/vggish_model.ckpt\n",
      "INFO:tensorflow:Restoring parameters from check_points/vggish_model.ckpt\n",
      "INFO:tensorflow:Restoring parameters from check_points/vggish_model.ckpt\n",
      "100 0\n",
      "INFO:tensorflow:Restoring parameters from check_points/vggish_model.ckpt\n",
      "INFO:tensorflow:Restoring parameters from check_points/vggish_model.ckpt\n",
      "INFO:tensorflow:Restoring parameters from check_points/vggish_model.ckpt\n",
      "INFO:tensorflow:Restoring parameters from check_points/vggish_model.ckpt\n",
      "INFO:tensorflow:Restoring parameters from check_points/vggish_model.ckpt\n",
      "INFO:tensorflow:Restoring parameters from check_points/vggish_model.ckpt\n",
      "INFO:tensorflow:Restoring parameters from check_points/vggish_model.ckpt\n",
      "INFO:tensorflow:Restoring parameters from check_points/vggish_model.ckpt\n",
      "INFO:tensorflow:Restoring parameters from check_points/vggish_model.ckpt\n",
      "INFO:tensorflow:Restoring parameters from check_points/vggish_model.ckpt\n",
      "INFO:tensorflow:Restoring parameters from check_points/vggish_model.ckpt\n",
      "INFO:tensorflow:Restoring parameters from check_points/vggish_model.ckpt\n",
      "INFO:tensorflow:Restoring parameters from check_points/vggish_model.ckpt\n",
      "INFO:tensorflow:Restoring parameters from check_points/vggish_model.ckpt\n",
      "INFO:tensorflow:Restoring parameters from check_points/vggish_model.ckpt\n",
      "INFO:tensorflow:Restoring parameters from check_points/vggish_model.ckpt\n",
      "INFO:tensorflow:Restoring parameters from check_points/vggish_model.ckpt\n",
      "INFO:tensorflow:Restoring parameters from check_points/vggish_model.ckpt\n",
      "INFO:tensorflow:Restoring parameters from check_points/vggish_model.ckpt\n",
      "100 0\n",
      "INFO:tensorflow:Restoring parameters from check_points/vggish_model.ckpt\n",
      "INFO:tensorflow:Restoring parameters from check_points/vggish_model.ckpt\n",
      "INFO:tensorflow:Restoring parameters from check_points/vggish_model.ckpt\n",
      "INFO:tensorflow:Restoring parameters from check_points/vggish_model.ckpt\n",
      "INFO:tensorflow:Restoring parameters from check_points/vggish_model.ckpt\n",
      "INFO:tensorflow:Restoring parameters from check_points/vggish_model.ckpt\n",
      "INFO:tensorflow:Restoring parameters from check_points/vggish_model.ckpt\n",
      "INFO:tensorflow:Restoring parameters from check_points/vggish_model.ckpt\n",
      "INFO:tensorflow:Restoring parameters from check_points/vggish_model.ckpt\n",
      "INFO:tensorflow:Restoring parameters from check_points/vggish_model.ckpt\n",
      "INFO:tensorflow:Restoring parameters from check_points/vggish_model.ckpt\n",
      "INFO:tensorflow:Restoring parameters from check_points/vggish_model.ckpt\n",
      "INFO:tensorflow:Restoring parameters from check_points/vggish_model.ckpt\n",
      "INFO:tensorflow:Restoring parameters from check_points/vggish_model.ckpt\n",
      "INFO:tensorflow:Restoring parameters from check_points/vggish_model.ckpt\n",
      "INFO:tensorflow:Restoring parameters from check_points/vggish_model.ckpt\n",
      "INFO:tensorflow:Restoring parameters from check_points/vggish_model.ckpt\n",
      "INFO:tensorflow:Restoring parameters from check_points/vggish_model.ckpt\n",
      "INFO:tensorflow:Restoring parameters from check_points/vggish_model.ckpt\n",
      "INFO:tensorflow:Restoring parameters from check_points/vggish_model.ckpt\n",
      "INFO:tensorflow:Restoring parameters from check_points/vggish_model.ckpt\n",
      "INFO:tensorflow:Restoring parameters from check_points/vggish_model.ckpt\n",
      "100 0\n"
     ]
    }
   ],
   "source": [
    "normal_feat = np.array(extract_feature_from_files(category='normal'))\n",
    "mild_feat = np.array(extract_feature_from_files(category='mild'))\n",
    "severe_feat = np.array(extract_feature_from_files(category='severe'))\n",
    "\n",
    "X = np.append(normal_feat, mild_feat, axis=0)\n",
    "X = np.append(X, severe_feat, axis=0)\n",
    "Y = np.zeros(shape=(X.shape[0],))\n",
    "for i in range(len(Y)):\n",
    "    if i < len(normal_feat): \n",
    "        Y[i] = 1\n",
    "    elif i < len(normal_feat) + len(mild_feat): \n",
    "        Y[i] = 2\n",
    "    else: \n",
    "        Y[i] = 3"
   ]
  },
  {
   "cell_type": "markdown",
   "metadata": {},
   "source": [
    "# SVM Sample Training"
   ]
  },
  {
   "cell_type": "code",
   "execution_count": 14,
   "metadata": {},
   "outputs": [
    {
     "name": "stdout",
     "output_type": "stream",
     "text": [
      "0.9148351648351648\n"
     ]
    },
    {
     "data": {
      "text/plain": [
       "array([[178,  11,   8],\n",
       "       [  7, 223,  17],\n",
       "       [  7,  12, 265]], dtype=int64)"
      ]
     },
     "execution_count": 14,
     "metadata": {},
     "output_type": "execute_result"
    }
   ],
   "source": [
    "# SVM training\n",
    "import sklearn.svm as svm\n",
    "\n",
    "C = 10 # SVM regularization parameter\n",
    "#clf = svm.SVC(kernel=\"linear\", C=C, random_state=2022)\n",
    "clf = svm.SVC(kernel=\"rbf\", C=C, max_iter=10000)\n",
    "clf.fit(X, Y)\n",
    "\n",
    "# confusion matrix\n",
    "from sklearn.metrics import confusion_matrix\n",
    "y_pred = clf.predict(X)\n",
    "print(clf.score(X, Y))\n",
    "confusion_matrix(Y, y_pred)"
   ]
  },
  {
   "cell_type": "markdown",
   "metadata": {},
   "source": [
    "# Unseen Data Test"
   ]
  },
  {
   "cell_type": "code",
   "execution_count": 17,
   "metadata": {},
   "outputs": [
    {
     "name": "stdout",
     "output_type": "stream",
     "text": [
      "INFO:tensorflow:Restoring parameters from check_points/vggish_model.ckpt\n",
      "[2. 3. 3. 2. 3. 3. 3. 3. 3. 3. 3.]\n",
      "0.8181818181818182\n"
     ]
    }
   ],
   "source": [
    "# unseen data test\n",
    "TEST_DATA_TYPE = 1\n",
    "LABEL = 3\n",
    "LABEL_DICT = {1:'normal', 2:'mild', 3:'severe'}\n",
    "unseen_audio_path = os.path.join('D:/data set/hearing loss/integrated data/test_data/', LABEL_DICT[LABEL])\n",
    "\n",
    "x_1, sr = librosa.load(os.path.join(unseen_audio_path, os.listdir(unseen_audio_path)[0], 'chapter1.wav'), sr=44100, mono=True)\n",
    "x_2, sr = librosa.load(os.path.join(unseen_audio_path, os.listdir(unseen_audio_path)[0], 'chapter2.wav'), sr=44100, mono=True)\n",
    "x_3, sr = librosa.load(os.path.join(unseen_audio_path, os.listdir(unseen_audio_path)[0], 'chapter3.wav'), sr=44100, mono=True)\n",
    "\n",
    "if TEST_DATA_TYPE == 0:\n",
    "    # chapter 1 & 2\n",
    "    X_test = np.empty((0, 128))\n",
    "    X_test = np.append(X_test, np.array(vggish_feat_extract(x_1, sr)), axis=0)\n",
    "    X_test = np.append(X_test, np.array(vggish_feat_extract(x_2, sr)), axis=0)\n",
    "else:\n",
    "    # chapter 3\n",
    "    X_test = np.array(vggish_feat_extract(x_3, sr))\n",
    "\n",
    "y_pred = clf.predict(X_test)\n",
    "print(y_pred)\n",
    "score = 0\n",
    "for pred in y_pred:\n",
    "    if pred == LABEL: score += 1\n",
    "score /= len(y_pred)\n",
    "print(score)"
   ]
  },
  {
   "cell_type": "markdown",
   "metadata": {},
   "source": [
    "# Simple 5-fold & Leave One Sample Out"
   ]
  },
  {
   "cell_type": "code",
   "execution_count": 21,
   "metadata": {},
   "outputs": [
    {
     "name": "stdout",
     "output_type": "stream",
     "text": [
      "train score :  [0.85166994 0.8654224  0.87033399 0.86064769 0.83807655]\n",
      "test score :  [0.34117647 0.25098039 0.29411765 0.30314961 0.4015748 ]\n",
      "leave one subject out : 0.6889238020424194\n"
     ]
    }
   ],
   "source": [
    "# 5-fold cross validation & leave one sample out\n",
    "from sklearn.model_selection import cross_validate\n",
    "from sklearn.model_selection import LeaveOneOut\n",
    "\n",
    "cv_results = cross_validate(clf, X, Y, cv=5, return_train_score=True)\n",
    "print('train score : ', cv_results['train_score'])\n",
    "print('test score : ', cv_results['test_score'])\n",
    "\n",
    "loo = LeaveOneOut()\n",
    "score = 0 \n",
    "for train_index, test_index in loo.split(X):\n",
    "    X_train, X_test = X[train_index], X[test_index]\n",
    "    Y_train, Y_test = Y[train_index], Y[test_index]\n",
    "    clf.fit(X_train, Y_train)\n",
    "    if clf.predict(X_test) == Y_test: score += 1\n",
    "score /= len(X)\n",
    "print('leave one subject out :', score)"
   ]
  },
  {
   "cell_type": "markdown",
   "metadata": {},
   "source": [
    "# Leave-one-Subject-Out"
   ]
  },
  {
   "cell_type": "code",
   "execution_count": 104,
   "metadata": {},
   "outputs": [
    {
     "name": "stdout",
     "output_type": "stream",
     "text": [
      "INFO:tensorflow:Restoring parameters from check_points/vggish_model.ckpt\n",
      "INFO:tensorflow:Restoring parameters from check_points/vggish_model.ckpt\n",
      "INFO:tensorflow:Restoring parameters from check_points/vggish_model.ckpt\n",
      "INFO:tensorflow:Restoring parameters from check_points/vggish_model.ckpt\n",
      "INFO:tensorflow:Restoring parameters from check_points/vggish_model.ckpt\n",
      "INFO:tensorflow:Restoring parameters from check_points/vggish_model.ckpt\n",
      "INFO:tensorflow:Restoring parameters from check_points/vggish_model.ckpt\n",
      "INFO:tensorflow:Restoring parameters from check_points/vggish_model.ckpt\n",
      "INFO:tensorflow:Restoring parameters from check_points/vggish_model.ckpt\n",
      "INFO:tensorflow:Restoring parameters from check_points/vggish_model.ckpt\n",
      "INFO:tensorflow:Restoring parameters from check_points/vggish_model.ckpt\n",
      "INFO:tensorflow:Restoring parameters from check_points/vggish_model.ckpt\n",
      "INFO:tensorflow:Restoring parameters from check_points/vggish_model.ckpt\n",
      "INFO:tensorflow:Restoring parameters from check_points/vggish_model.ckpt\n",
      "INFO:tensorflow:Restoring parameters from check_points/vggish_model.ckpt\n",
      "INFO:tensorflow:Restoring parameters from check_points/vggish_model.ckpt\n",
      "INFO:tensorflow:Restoring parameters from check_points/vggish_model.ckpt\n"
     ]
    },
    {
     "name": "stderr",
     "output_type": "stream",
     "text": [
      "<ipython-input-104-a7bb4271a1a2>:16: VisibleDeprecationWarning: Creating an ndarray from ragged nested sequences (which is a list-or-tuple of lists-or-tuples-or ndarrays with different lengths or shapes) is deprecated. If you meant to do this, you must specify 'dtype=object' when creating the ndarray.\n",
      "  normal_feat, normal_feat_len = np.array(extract_feature_from_files(category='normal'))\n"
     ]
    },
    {
     "name": "stdout",
     "output_type": "stream",
     "text": [
      "INFO:tensorflow:Restoring parameters from check_points/vggish_model.ckpt\n",
      "INFO:tensorflow:Restoring parameters from check_points/vggish_model.ckpt\n",
      "INFO:tensorflow:Restoring parameters from check_points/vggish_model.ckpt\n",
      "INFO:tensorflow:Restoring parameters from check_points/vggish_model.ckpt\n",
      "INFO:tensorflow:Restoring parameters from check_points/vggish_model.ckpt\n",
      "INFO:tensorflow:Restoring parameters from check_points/vggish_model.ckpt\n",
      "INFO:tensorflow:Restoring parameters from check_points/vggish_model.ckpt\n",
      "INFO:tensorflow:Restoring parameters from check_points/vggish_model.ckpt\n",
      "INFO:tensorflow:Restoring parameters from check_points/vggish_model.ckpt\n",
      "INFO:tensorflow:Restoring parameters from check_points/vggish_model.ckpt\n",
      "INFO:tensorflow:Restoring parameters from check_points/vggish_model.ckpt\n",
      "INFO:tensorflow:Restoring parameters from check_points/vggish_model.ckpt\n",
      "INFO:tensorflow:Restoring parameters from check_points/vggish_model.ckpt\n",
      "INFO:tensorflow:Restoring parameters from check_points/vggish_model.ckpt\n",
      "INFO:tensorflow:Restoring parameters from check_points/vggish_model.ckpt\n",
      "INFO:tensorflow:Restoring parameters from check_points/vggish_model.ckpt\n",
      "INFO:tensorflow:Restoring parameters from check_points/vggish_model.ckpt\n",
      "INFO:tensorflow:Restoring parameters from check_points/vggish_model.ckpt\n",
      "INFO:tensorflow:Restoring parameters from check_points/vggish_model.ckpt\n"
     ]
    },
    {
     "name": "stderr",
     "output_type": "stream",
     "text": [
      "<ipython-input-104-a7bb4271a1a2>:17: VisibleDeprecationWarning: Creating an ndarray from ragged nested sequences (which is a list-or-tuple of lists-or-tuples-or ndarrays with different lengths or shapes) is deprecated. If you meant to do this, you must specify 'dtype=object' when creating the ndarray.\n",
      "  mild_feat, mild_feat_len = np.array(extract_feature_from_files(category='mild'))\n"
     ]
    },
    {
     "name": "stdout",
     "output_type": "stream",
     "text": [
      "INFO:tensorflow:Restoring parameters from check_points/vggish_model.ckpt\n",
      "INFO:tensorflow:Restoring parameters from check_points/vggish_model.ckpt\n",
      "INFO:tensorflow:Restoring parameters from check_points/vggish_model.ckpt\n",
      "INFO:tensorflow:Restoring parameters from check_points/vggish_model.ckpt\n",
      "INFO:tensorflow:Restoring parameters from check_points/vggish_model.ckpt\n",
      "INFO:tensorflow:Restoring parameters from check_points/vggish_model.ckpt\n",
      "INFO:tensorflow:Restoring parameters from check_points/vggish_model.ckpt\n",
      "INFO:tensorflow:Restoring parameters from check_points/vggish_model.ckpt\n",
      "INFO:tensorflow:Restoring parameters from check_points/vggish_model.ckpt\n",
      "INFO:tensorflow:Restoring parameters from check_points/vggish_model.ckpt\n",
      "INFO:tensorflow:Restoring parameters from check_points/vggish_model.ckpt\n",
      "INFO:tensorflow:Restoring parameters from check_points/vggish_model.ckpt\n",
      "INFO:tensorflow:Restoring parameters from check_points/vggish_model.ckpt\n",
      "INFO:tensorflow:Restoring parameters from check_points/vggish_model.ckpt\n",
      "INFO:tensorflow:Restoring parameters from check_points/vggish_model.ckpt\n",
      "INFO:tensorflow:Restoring parameters from check_points/vggish_model.ckpt\n",
      "INFO:tensorflow:Restoring parameters from check_points/vggish_model.ckpt\n",
      "INFO:tensorflow:Restoring parameters from check_points/vggish_model.ckpt\n",
      "INFO:tensorflow:Restoring parameters from check_points/vggish_model.ckpt\n",
      "INFO:tensorflow:Restoring parameters from check_points/vggish_model.ckpt\n",
      "INFO:tensorflow:Restoring parameters from check_points/vggish_model.ckpt\n",
      "INFO:tensorflow:Restoring parameters from check_points/vggish_model.ckpt\n",
      "(728, 128)\n"
     ]
    },
    {
     "name": "stderr",
     "output_type": "stream",
     "text": [
      "<ipython-input-104-a7bb4271a1a2>:18: VisibleDeprecationWarning: Creating an ndarray from ragged nested sequences (which is a list-or-tuple of lists-or-tuples-or ndarrays with different lengths or shapes) is deprecated. If you meant to do this, you must specify 'dtype=object' when creating the ndarray.\n",
      "  severe_feat, severe_feat_len = np.array(extract_feature_from_files(category='severe'))\n"
     ]
    }
   ],
   "source": [
    "# leave on subject out\n",
    "\n",
    "def extract_feature_from_files(category='normal'):\n",
    "    feature_len = np.empty((0,))\n",
    "    vggish_feature = np.empty((0, 128))\n",
    "    for folder in os.listdir(os.path.join(audio_path, category)):\n",
    "        for audio_file in os.listdir(os.path.join(audio_path, category, folder)):\n",
    "            #if audio_file.endswith('.wav') and (audio_file.lower() == 'chapter1.wav' or audio_file.lower() == 'chapter2.wav'):\n",
    "            if audio_file.endswith('.wav') and audio_file.lower() == 'chapter3.wav':\n",
    "                x, sr = librosa.load(os.path.join(audio_path, category, folder, audio_file), sr=44100, mono=True)\n",
    "                temp = np.array(vggish_feat_extract(x, sr))\n",
    "                vggish_feature = np.append(vggish_feature, temp, axis=0)\n",
    "        feature_len = np.append(feature_len, [len(vggish_feature)])\n",
    "    return vggish_feature, feature_len\n",
    "\n",
    "normal_feat, normal_feat_len = np.array(extract_feature_from_files(category='normal'))\n",
    "mild_feat, mild_feat_len = np.array(extract_feature_from_files(category='mild'))\n",
    "severe_feat, severe_feat_len = np.array(extract_feature_from_files(category='severe'))\n",
    "\n",
    "mild_feat_len += normal_feat_len[-1]\n",
    "severe_feat_len += mild_feat_len[-1]\n",
    "total_feat_len = np.append(normal_feat_len, mild_feat_len)\n",
    "total_feat_len = np.append(total_feat_len, severe_feat_len)\n",
    "    \n",
    "X = np.append(normal_feat, mild_feat, axis=0)\n",
    "X = np.append(X, severe_feat, axis=0)\n",
    "Y = np.zeros(shape=(X.shape[0],))\n",
    "for i in range(len(Y)):\n",
    "    if i < len(normal_feat): \n",
    "        Y[i] = 1\n",
    "    elif i < len(normal_feat) + len(mild_feat): \n",
    "        Y[i] = 2\n",
    "    else: \n",
    "        Y[i] = 3\n",
    "\n",
    "print(X.shape)"
   ]
  },
  {
   "cell_type": "code",
   "execution_count": 119,
   "metadata": {},
   "outputs": [
    {
     "name": "stdout",
     "output_type": "stream",
     "text": [
      "train score : 0.6991749320155702\n",
      "test score : 0.37882080235755383\n"
     ]
    }
   ],
   "source": [
    "test_score = 0\n",
    "train_score = 0\n",
    "for i in range(len(total_feat_len)):\n",
    "    index = [j for j in range(len(X))]\n",
    "    if i >= 1:\n",
    "        test_idx = [j for j in range(int(total_feat_len[i-1]), int(total_feat_len[i]))]\n",
    "        train_idx = np.delete(index, test_idx)\n",
    "        X_test, Y_test = X[test_idx], Y[test_idx]\n",
    "        X_train, Y_train = X[train_idx], Y[train_idx]\n",
    "    else:\n",
    "        X_test, Y_test = X[:int(total_feat_len[i])], Y[:int(total_feat_len[i])]\n",
    "        X_train, Y_train = X[int(total_feat_len[i]):], Y[int(total_feat_len[i]):]\n",
    "\n",
    "    C = 1 # SVM regularization parameter\n",
    "    #clf = svm.SVC(kernel=\"linear\", C=C, random_state=2022)\n",
    "    clf = svm.SVC(kernel=\"rbf\", C=C, random_state=2022)\n",
    "    clf.fit(X_train, Y_train)\n",
    "    \n",
    "    y_pred = clf.predict(X_test)\n",
    "    #print(clf.score(X_test, Y_test))\n",
    "    test_score += clf.score(X_test, Y_test)\n",
    "    train_score += clf.score(X_train, Y_train)\n",
    "print('train score :', train_score / len(total_feat_len))\n",
    "print('test score :', test_score / len(total_feat_len))"
   ]
  },
  {
   "cell_type": "markdown",
   "metadata": {},
   "source": [
    "# 5-fold Cross Validation"
   ]
  },
  {
   "cell_type": "code",
   "execution_count": 120,
   "metadata": {},
   "outputs": [
    {
     "name": "stdout",
     "output_type": "stream",
     "text": [
      "train score : [0.6919275123558485, 0.690068493150685, 0.6735395189003437, 0.6626712328767124, 0.7009009009009008]\n",
      "test score : [0.5867768595041323, 0.6041666666666666, 0.6575342465753424, 0.6458333333333334, 0.5780346820809249]\n",
      "0.6144691576320799\n"
     ]
    }
   ],
   "source": [
    "test_score = []\n",
    "train_score = []\n",
    "NUM_OF_FOLD = 5\n",
    "\n",
    "for i in range(NUM_OF_FOLD):\n",
    "    index = [k for k in range(len(X))]\n",
    "    test_idx = []\n",
    "    for j in range(len(total_feat_len)):\n",
    "        if j >= 1:\n",
    "            seq_len = int(total_feat_len[j]-total_feat_len[j-1])\n",
    "            temp = [k for k in range(int(total_feat_len[j-1]+seq_len*i*0.2), int(total_feat_len[j-1]+seq_len*(i+1)*0.2))]\n",
    "            test_idx.extend(temp)\n",
    "        else:\n",
    "            seq_len = int(total_feat_len[j])\n",
    "            temp = [k for k in range(int(seq_len*i*0.2), int(seq_len*(i+1)*0.2))]\n",
    "            test_idx.extend(temp)\n",
    "    train_idx = np.delete(index, test_idx)\n",
    "    \n",
    "    X_test, Y_test = X[test_idx], Y[test_idx]        \n",
    "    X_train, Y_train = X[train_idx], Y[train_idx]\n",
    "    \n",
    "    C = 1 # SVM regularization parameter\n",
    "    #clf = svm.SVC(kernel=\"linear\", C=C, random_state=2022)\n",
    "    clf = svm.SVC(kernel=\"rbf\", C=C, random_state=2022)\n",
    "    clf.fit(X_train, Y_train)\n",
    "    \n",
    "    y_pred = clf.predict(X_test)\n",
    "    test_score.extend([clf.score(X_test, Y_test)])\n",
    "    train_score.extend([clf.score(X_train, Y_train)])\n",
    "print('train score :', train_score)\n",
    "print('test score :', test_score)\n",
    "print(np.mean(test_score))"
   ]
  },
  {
   "cell_type": "code",
   "execution_count": null,
   "metadata": {},
   "outputs": [],
   "source": [
    "test_score = []\n",
    "train_score = []\n",
    "NUM_OF_FOLD = 5\n",
    "\n",
    "for i in range(NUM_OF_FOLD):\n",
    "    index = [k for k in range(len(X))]\n",
    "    test_idx = []\n",
    "    for j in range(len(total_feat_len)):\n",
    "        if j >= 1:\n",
    "            seq_len = int(total_feat_len[j]-total_feat_len[j-1])\n",
    "            temp = [k for k in range(int(total_feat_len[j-1]+seq_len*i*0.2), int(total_feat_len[j-1]+seq_len*(i+1)*0.2))]\n",
    "            test_idx.extend(temp)\n",
    "        else:\n",
    "            seq_len = int(total_feat_len[j])\n",
    "            temp = [k for k in range(int(seq_len*i*0.2), int(seq_len*(i+1)*0.2))]\n",
    "            test_idx.extend(temp)\n",
    "    train_idx = np.delete(index, test_idx)\n",
    "    \n",
    "    X_test, Y_test = X[test_idx], Y[test_idx]        \n",
    "    X_train, Y_train = X[train_idx], Y[train_idx]\n",
    "    \n",
    "    C = 1 # SVM regularization parameter\n",
    "    #clf = svm.SVC(kernel=\"linear\", C=C, random_state=2022)\n",
    "    clf = svm.SVC(kernel=\"rbf\", C=C, random_state=2022)\n",
    "    clf.fit(X_train, Y_train)\n",
    "    \n",
    "    y_pred = clf.predict(X_test)\n",
    "    test_score.extend([clf.score(X_test, Y_test)])\n",
    "    train_score.extend([clf.score(X_train, Y_train)])\n",
    "print('train score :', train_score)\n",
    "print('test score :', test_score)\n",
    "print(np.mean(test_score))"
   ]
  }
 ],
 "metadata": {
  "interpreter": {
   "hash": "adf8777a143903d809246787b2d878fefe0e99539ab77a4ea5eea11d91e0086e"
  },
  "kernelspec": {
   "display_name": "Python 3.8.8 ('tensorflow')",
   "language": "python",
   "name": "python3"
  },
  "language_info": {
   "codemirror_mode": {
    "name": "ipython",
    "version": 3
   },
   "file_extension": ".py",
   "mimetype": "text/x-python",
   "name": "python",
   "nbconvert_exporter": "python",
   "pygments_lexer": "ipython3",
   "version": "3.8.8"
  },
  "orig_nbformat": 4
 },
 "nbformat": 4,
 "nbformat_minor": 2
}
